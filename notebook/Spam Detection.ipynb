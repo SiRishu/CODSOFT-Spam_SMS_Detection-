{
 "cells": [
  {
   "cell_type": "code",
   "execution_count": 1,
   "id": "ccd6ea3f",
   "metadata": {},
   "outputs": [],
   "source": [
    "import pandas as pd\n",
    "from sklearn.model_selection import train_test_split\n",
    "from sklearn.feature_extraction.text import TfidfVectorizer\n",
    "from sklearn.ensemble import RandomForestClassifier\n",
    "from sklearn.metrics import confusion_matrix, classification_report\n",
    "import joblib \n",
    "import numpy as np \n",
    "from sklearn.preprocessing import StandardScaler"
   ]
  },
  {
   "cell_type": "code",
   "execution_count": 2,
   "id": "3fc0d977",
   "metadata": {},
   "outputs": [
    {
     "name": "stdout",
     "output_type": "stream",
     "text": [
      "Dataset loaded successfully!\n",
      "  target                                               text\n",
      "0    ham  Go until jurong point, crazy.. Available only ...\n",
      "1    ham                      Ok lar... Joking wif u oni...\n",
      "2   spam  Free entry in 2 a wkly comp to win FA Cup fina...\n",
      "3    ham  U dun say so early hor... U c already then say...\n",
      "4    ham  Nah I don't think he goes to usf, he lives aro...\n",
      "\n",
      "Dataset Info:\n",
      "<class 'pandas.core.frame.DataFrame'>\n",
      "RangeIndex: 5572 entries, 0 to 5571\n",
      "Data columns (total 2 columns):\n",
      " #   Column  Non-Null Count  Dtype \n",
      "---  ------  --------------  ----- \n",
      " 0   target  5572 non-null   object\n",
      " 1   text    5572 non-null   object\n",
      "dtypes: object(2)\n",
      "memory usage: 87.2+ KB\n"
     ]
    }
   ],
   "source": [
    "\n",
    "try:\n",
    "    df = pd.read_csv(\"C:/Users/ravik/Downloads/dataset_ spam detection/spam.csv\", encoding='latin-1')\n",
    "   \n",
    "    df = df.drop(columns=['Unnamed: 2', 'Unnamed: 3', 'Unnamed: 4'], errors='ignore')\n",
    "    \n",
    "    df.rename(columns={'v1': 'target', 'v2': 'text'}, inplace=True)\n",
    "    print(\"Dataset loaded successfully!\")\n",
    "    print(df.head())\n",
    "    print(\"\\nDataset Info:\")\n",
    "    df.info()\n",
    "except FileNotFoundError:\n",
    "    print(\"Error: 'spam.csv' not found. Make sure the file is in the correct directory.\")\n",
    "    \n",
    "except Exception as e:\n",
    "    print(f\"An error occurred while loading the dataset: {e}\")"
   ]
  },
  {
   "cell_type": "code",
   "execution_count": 3,
   "id": "7a113b95",
   "metadata": {},
   "outputs": [
    {
     "name": "stdout",
     "output_type": "stream",
     "text": [
      "X (text samples) shape: (5572,)\n",
      "y (target labels) shape: (5572,)\n",
      "\n",
      "Target distribution:\n",
      "target\n",
      "0    4825\n",
      "1     747\n",
      "Name: count, dtype: int64\n"
     ]
    }
   ],
   "source": [
    "X = df['text']\n",
    "y = df['target']\n",
    "\n",
    "\n",
    "y = y.map({'ham': 0, 'spam': 1})\n",
    "\n",
    "print(f\"X (text samples) shape: {X.shape}\")\n",
    "print(f\"y (target labels) shape: {y.shape}\")\n",
    "print(\"\\nTarget distribution:\")\n",
    "print(y.value_counts())"
   ]
  },
  {
   "cell_type": "code",
   "execution_count": 4,
   "id": "e402f786",
   "metadata": {},
   "outputs": [
    {
     "name": "stdout",
     "output_type": "stream",
     "text": [
      "X_vectorized shape: (5572, 5000)\n",
      "\n",
      "First 5 TF-IDF values for the first message (example):\n",
      "[[0. 0. 0. 0. 0. 0. 0. 0. 0. 0.]]\n"
     ]
    }
   ],
   "source": [
    "# Initialize TF-IDF Vectorizer\n",
    "\n",
    "vectorizer = TfidfVectorizer(stop_words='english', max_features=5000)\n",
    "\n",
    "\n",
    "X_vectorized = vectorizer.fit_transform(X)\n",
    "\n",
    "\n",
    "print(f\"X_vectorized shape: {X_vectorized.shape}\")\n",
    "print(\"\\nFirst 5 TF-IDF values for the first message (example):\")\n",
    "print(X_vectorized[0].toarray()[:, :10]) "
   ]
  },
  {
   "cell_type": "code",
   "execution_count": 5,
   "id": "80f9d1dd",
   "metadata": {},
   "outputs": [
    {
     "name": "stdout",
     "output_type": "stream",
     "text": [
      "X_train shape: (3900, 5000)\n",
      "X_test shape: (1672, 5000)\n",
      "y_train shape: (3900,)\n",
      "y_test shape: (1672,)\n"
     ]
    }
   ],
   "source": [
    "# train_test_split(X_scaled, y, ...) \n",
    "X_train, X_test, y_train, y_test = train_test_split(X_vectorized, y, test_size=0.3, random_state=42, stratify=y)\n",
    "\n",
    "print(f\"X_train shape: {X_train.shape}\")\n",
    "print(f\"X_test shape: {X_test.shape}\")\n",
    "print(f\"y_train shape: {y_train.shape}\")\n",
    "print(f\"y_test shape: {y_test.shape}\")"
   ]
  },
  {
   "cell_type": "code",
   "execution_count": 6,
   "id": "69ae2876",
   "metadata": {},
   "outputs": [
    {
     "name": "stdout",
     "output_type": "stream",
     "text": [
      "Training the RandomForestClassifier model...\n",
      "Model training complete!\n"
     ]
    }
   ],
   "source": [
    "model = RandomForestClassifier(n_estimators=100, random_state=42, n_jobs=-1)\n",
    "\n",
    "\n",
    "print(\"Training the RandomForestClassifier model...\")\n",
    "model.fit(X_train, y_train)\n",
    "print(\"Model training complete!\")"
   ]
  },
  {
   "cell_type": "code",
   "execution_count": 7,
   "id": "4af056cc",
   "metadata": {},
   "outputs": [
    {
     "name": "stdout",
     "output_type": "stream",
     "text": [
      "Making predictions on the test set...\n",
      "Predictions complete!\n",
      "\n",
      "--- Model Evaluation ---\n",
      "Confusion Matrix:\n",
      " [[1448    0]\n",
      " [  39  185]]\n",
      "\n",
      "Classification Report:\n",
      "               precision    recall  f1-score   support\n",
      "\n",
      "           0       0.97      1.00      0.99      1448\n",
      "           1       1.00      0.83      0.90       224\n",
      "\n",
      "    accuracy                           0.98      1672\n",
      "   macro avg       0.99      0.91      0.95      1672\n",
      "weighted avg       0.98      0.98      0.98      1672\n",
      "\n"
     ]
    }
   ],
   "source": [
    "print(\"Making predictions on the test set...\")\n",
    "y_pred = model.predict(X_test)\n",
    "print(\"Predictions complete!\")\n",
    "\n",
    "print(\"\\n--- Model Evaluation ---\")\n",
    "print(\"Confusion Matrix:\\n\", confusion_matrix(y_test, y_pred))\n",
    "print(\"\\nClassification Report:\\n\", classification_report(y_test, y_pred))"
   ]
  },
  {
   "cell_type": "code",
   "execution_count": 8,
   "id": "f6da46c4",
   "metadata": {},
   "outputs": [
    {
     "name": "stdout",
     "output_type": "stream",
     "text": [
      "Trained model saved as 'spam_detection_randomforest_model.pkl'\n",
      "TF-IDF Vectorizer saved as 'tfidf_vectorizer.pkl'\n"
     ]
    }
   ],
   "source": [
    "# Saving the model\n",
    "model_filename = 'spam_detection_randomforest_model.pkl'\n",
    "joblib.dump(model, model_filename)\n",
    "print(f\"Trained model saved as '{model_filename}'\")\n",
    "\n",
    "# Saving the vectorizer \n",
    "vectorizer_filename = 'tfidf_vectorizer.pkl'\n",
    "joblib.dump(vectorizer, vectorizer_filename)\n",
    "print(f\"TF-IDF Vectorizer saved as '{vectorizer_filename}'\")"
   ]
  },
  {
   "cell_type": "code",
   "execution_count": 9,
   "id": "9e2b86fa",
   "metadata": {},
   "outputs": [
    {
     "name": "stdout",
     "output_type": "stream",
     "text": [
      "--- Demonstrating Loading and Predicting ---\n",
      "Model and vectorizer loaded successfully.\n",
      "\n",
      "New messages for prediction:\n",
      "- 'Congratulations! You've won a FREE iPhone! Click here to claim.'\n",
      "- 'Hey, how are you doing today?'\n",
      "- 'URGENT! Your bank account has been compromised. Log in immediately at fakebank.com'\n",
      "- 'Meeting at 3 PM today.'\n",
      "- 'Free entry to a cash prize draw if you reply to this message now!'\n",
      "\n",
      "Transformed new messages shape: (5, 5000)\n",
      "\n",
      "Predictions:\n",
      "'Congratulations! You've won a FREE iPhone! Click here to claim.' -> spam\n",
      "'Hey, how are you doing today?' -> ham\n",
      "'URGENT! Your bank account has been compromised. Log in immediately at fakebank.com' -> spam\n",
      "'Meeting at 3 PM today.' -> ham\n",
      "'Free entry to a cash prize draw if you reply to this message now!' -> spam\n"
     ]
    }
   ],
   "source": [
    "print(\"--- Demonstrating Loading and Predicting ---\")\n",
    "\n",
    "\n",
    "loaded_model = joblib.load('spam_detection_randomforest_model.pkl')\n",
    "loaded_vectorizer = joblib.load('tfidf_vectorizer.pkl')\n",
    "print(\"Model and vectorizer loaded successfully.\")\n",
    "\n",
    "\n",
    "new_messages = [\n",
    "    \"Congratulations! You've won a FREE iPhone! Click here to claim.\",\n",
    "    \"Hey, how are you doing today?\",\n",
    "    \"URGENT! Your bank account has been compromised. Log in immediately at fakebank.com\",\n",
    "    \"Meeting at 3 PM today.\",\n",
    "    \"Free entry to a cash prize draw if you reply to this message now!\"\n",
    "]\n",
    "\n",
    "print(\"\\nNew messages for prediction:\")\n",
    "for msg in new_messages:\n",
    "    print(f\"- '{msg}'\")\n",
    "\n",
    "\n",
    "new_messages_vectorized = loaded_vectorizer.transform(new_messages)\n",
    "print(f\"\\nTransformed new messages shape: {new_messages_vectorized.shape}\")\n",
    "\n",
    "\n",
    "new_predictions = loaded_model.predict(new_messages_vectorized)\n",
    "print(\"\\nPredictions:\")\n",
    "\n",
    "\n",
    "prediction_labels = np.array(['ham', 'spam'])\n",
    "for i, prediction in enumerate(new_predictions):\n",
    "    print(f\"'{new_messages[i]}' -> {prediction_labels[prediction]}\")"
   ]
  }
 ],
 "metadata": {
  "kernelspec": {
   "display_name": "codsoft",
   "language": "python",
   "name": "python3"
  },
  "language_info": {
   "codemirror_mode": {
    "name": "ipython",
    "version": 3
   },
   "file_extension": ".py",
   "mimetype": "text/x-python",
   "name": "python",
   "nbconvert_exporter": "python",
   "pygments_lexer": "ipython3",
   "version": "3.10.18"
  }
 },
 "nbformat": 4,
 "nbformat_minor": 5
}
